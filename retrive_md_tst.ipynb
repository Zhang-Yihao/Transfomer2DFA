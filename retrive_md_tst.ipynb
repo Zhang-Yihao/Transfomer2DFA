{
 "cells": [
  {
   "cell_type": "code",
   "execution_count": 1,
   "outputs": [],
   "source": [
    "import torch\n",
    "import torch.nn as nn\n"
   ],
   "metadata": {
    "collapsed": false,
    "ExecuteTime": {
     "end_time": "2023-11-07T10:51:41.699165300Z",
     "start_time": "2023-11-07T10:51:40.364487400Z"
    }
   },
   "id": "95d409da38500df0"
  },
  {
   "cell_type": "code",
   "execution_count": 2,
   "outputs": [],
   "source": [
    "# load model\n",
    "model = torch.load('./model/model.pt')\n"
   ],
   "metadata": {
    "collapsed": false,
    "ExecuteTime": {
     "end_time": "2023-11-07T10:51:43.191193200Z",
     "start_time": "2023-11-07T10:51:43.174515200Z"
    }
   },
   "id": "30d41de839254453"
  },
  {
   "cell_type": "code",
   "execution_count": 5,
   "outputs": [
    {
     "name": "stdout",
     "output_type": "stream",
     "text": [
      "embedding.weight\n",
      "q_matrix.weight\n",
      "k_matrix.weight\n",
      "v_matrix.weight\n",
      "mlp.0.weight\n",
      "mlp.0.bias\n",
      "mlp.2.weight\n",
      "mlp.2.bias\n"
     ]
    }
   ],
   "source": [
    "for param in model:\n",
    "    print(param)"
   ],
   "metadata": {
    "collapsed": false,
    "ExecuteTime": {
     "end_time": "2023-11-07T10:54:56.076631800Z",
     "start_time": "2023-11-07T10:54:56.064834400Z"
    }
   },
   "id": "c0c5d3710559f41c"
  },
  {
   "cell_type": "code",
   "execution_count": 9,
   "outputs": [
    {
     "name": "stdout",
     "output_type": "stream",
     "text": [
      "torch.Size([11, 32])\n"
     ]
    }
   ],
   "source": [
    "print(model['embedding.weight'].size())"
   ],
   "metadata": {
    "collapsed": false,
    "ExecuteTime": {
     "end_time": "2023-11-07T11:05:36.128353900Z",
     "start_time": "2023-11-07T11:05:36.117918200Z"
    }
   },
   "id": "2b32cc2c50aa4ec"
  },
  {
   "cell_type": "code",
   "execution_count": 10,
   "outputs": [],
   "source": [
    "import copy"
   ],
   "metadata": {
    "collapsed": false,
    "ExecuteTime": {
     "end_time": "2023-11-07T11:05:43.812191200Z",
     "start_time": "2023-11-07T11:05:43.794990Z"
    }
   },
   "id": "ba6aabdbff8a8b1"
  },
  {
   "cell_type": "code",
   "execution_count": 12,
   "outputs": [],
   "source": [
    "# copy embedding\n",
    "embedding = copy.deepcopy(model['embedding.weight'])\n",
    "# copy qkv\n",
    "q = copy.deepcopy(model['q_matrix.weight'])\n",
    "k = copy.deepcopy(model['k_matrix.weight'])\n",
    "v = copy.deepcopy(model['v_matrix.weight'])"
   ],
   "metadata": {
    "collapsed": false,
    "ExecuteTime": {
     "end_time": "2023-11-07T11:12:39.119530500Z",
     "start_time": "2023-11-07T11:12:39.107943Z"
    }
   },
   "id": "f5d7a77e3da96162"
  },
  {
   "cell_type": "code",
   "execution_count": 13,
   "outputs": [],
   "source": [
    "# get qs and ks for each token\n",
    "t_qs = torch.matmul(embedding, q.transpose(0, 1))\n",
    "t_ks = torch.matmul(embedding, k.transpose(0, 1))\n"
   ],
   "metadata": {
    "collapsed": false,
    "ExecuteTime": {
     "end_time": "2023-11-07T11:24:33.558365800Z",
     "start_time": "2023-11-07T11:24:33.542536400Z"
    }
   },
   "id": "2b77c28d24052e16"
  },
  {
   "cell_type": "code",
   "execution_count": 14,
   "outputs": [
    {
     "data": {
      "text/plain": "torch.Size([11, 32])"
     },
     "execution_count": 14,
     "metadata": {},
     "output_type": "execute_result"
    }
   ],
   "source": [
    "t_ks.size()"
   ],
   "metadata": {
    "collapsed": false,
    "ExecuteTime": {
     "end_time": "2023-11-07T11:24:45.319604400Z",
     "start_time": "2023-11-07T11:24:45.278401600Z"
    }
   },
   "id": "72db6cb0ab59dffe"
  },
  {
   "cell_type": "code",
   "execution_count": 17,
   "outputs": [
    {
     "name": "stdout",
     "output_type": "stream",
     "text": [
      "torch.Size([10, 10])\n"
     ]
    }
   ],
   "source": [
    "input_seq = [9, 5, 1, 6, 2, 7, 3, 8, 0, 0]\n",
    "# compute attention\n",
    "q_s = [t_qs[i] for i in input_seq]\n",
    "k_s = [t_ks[i] for i in input_seq]\n",
    "\n",
    "t_att = torch.matmul(torch.stack(q_s), torch.stack(k_s).transpose(0, 1))\n",
    "print(t_att.size())"
   ],
   "metadata": {
    "collapsed": false,
    "ExecuteTime": {
     "end_time": "2023-11-07T11:30:30.708061Z",
     "start_time": "2023-11-07T11:30:30.696331500Z"
    }
   },
   "id": "b4870ed875ad91c4"
  },
  {
   "cell_type": "code",
   "execution_count": 18,
   "outputs": [
    {
     "data": {
      "text/plain": "torch.Size([11, 32])"
     },
     "execution_count": 18,
     "metadata": {},
     "output_type": "execute_result"
    }
   ],
   "source": [
    "# get v\n",
    "t_vs = torch.matmul(embedding, v.transpose(0, 1))\n",
    "t_vs.size()"
   ],
   "metadata": {
    "collapsed": false,
    "ExecuteTime": {
     "end_time": "2023-11-07T11:30:51.508828600Z",
     "start_time": "2023-11-07T11:30:51.496061700Z"
    }
   },
   "id": "c25faba00cbcdc84"
  },
  {
   "cell_type": "code",
   "execution_count": 19,
   "outputs": [
    {
     "data": {
      "text/plain": "torch.Size([10, 32])"
     },
     "execution_count": 19,
     "metadata": {},
     "output_type": "execute_result"
    }
   ],
   "source": [
    "v_s = [t_vs[i] for i in input_seq]\n",
    "v_s = torch.stack(v_s)\n",
    "v_s.size()"
   ],
   "metadata": {
    "collapsed": false,
    "ExecuteTime": {
     "end_time": "2023-11-07T11:31:04.537420200Z",
     "start_time": "2023-11-07T11:31:04.525392400Z"
    }
   },
   "id": "494b3b926dbaa68d"
  },
  {
   "cell_type": "code",
   "execution_count": 20,
   "outputs": [
    {
     "name": "stdout",
     "output_type": "stream",
     "text": [
      "tensor([[ -5.3959,  -2.9583,  -2.8686,  -2.5149,  -1.1299,  -0.0956,  -2.6343,\n",
      "          -3.0492,   0.0000,   0.0000],\n",
      "        [ -2.7484,  -6.9906,  -8.2938,  -4.3239,  -9.4224,   2.6181,   7.0164,\n",
      "           1.0293,   0.0000,   0.0000],\n",
      "        [ -4.2370,  -0.1084,  -5.9481,  -5.5022,  -6.7465,   1.6919,   2.9127,\n",
      "          -5.9568,   0.0000,   0.0000],\n",
      "        [ -2.9856,  -1.3564,   0.2384, -10.7287,  -8.0487,   4.9876,   6.5383,\n",
      "          -5.2695,   0.0000,   0.0000],\n",
      "        [ -2.6035,   2.2747,  -2.9804,  -4.2712,  -6.6119,   9.1776,   6.0342,\n",
      "          -4.5535,   0.0000,   0.0000],\n",
      "        [ -5.7663,   0.6663,  -3.3468,  -1.6183,  -2.1964,   5.6808,   5.1520,\n",
      "          -2.8558,   0.0000,   0.0000],\n",
      "        [ -5.4674,   2.0909,  -3.1084,  -3.0876,  -1.1979,   2.3100,   6.9338,\n",
      "          -5.8431,   0.0000,   0.0000],\n",
      "        [-10.6975,  -3.1499,  -5.9383, -11.6151,  -9.2356,   3.3039,   4.3325,\n",
      "         -11.9163,   0.0000,   0.0000],\n",
      "        [  0.0000,   0.0000,   0.0000,   0.0000,   0.0000,   0.0000,   0.0000,\n",
      "           0.0000,   0.0000,   0.0000],\n",
      "        [  0.0000,   0.0000,   0.0000,   0.0000,   0.0000,   0.0000,   0.0000,\n",
      "           0.0000,   0.0000,   0.0000]])\n"
     ]
    }
   ],
   "source": [
    "print(t_att)"
   ],
   "metadata": {
    "collapsed": false,
    "ExecuteTime": {
     "end_time": "2023-11-07T11:31:48.441110500Z",
     "start_time": "2023-11-07T11:31:48.429934Z"
    }
   },
   "id": "e567af8e6056c2ca"
  },
  {
   "cell_type": "code",
   "execution_count": 21,
   "outputs": [],
   "source": [
    "v_out = torch.matmul(t_att, v_s)"
   ],
   "metadata": {
    "collapsed": false,
    "ExecuteTime": {
     "end_time": "2023-11-07T11:32:12.151912300Z",
     "start_time": "2023-11-07T11:32:12.146728700Z"
    }
   },
   "id": "10437a4ed493d5ee"
  },
  {
   "cell_type": "code",
   "execution_count": 22,
   "outputs": [
    {
     "name": "stdout",
     "output_type": "stream",
     "text": [
      "torch.Size([10, 32])\n"
     ]
    }
   ],
   "source": [
    "print(v_out.size())"
   ],
   "metadata": {
    "collapsed": false,
    "ExecuteTime": {
     "end_time": "2023-11-07T11:32:15.588455900Z",
     "start_time": "2023-11-07T11:32:15.573937400Z"
    }
   },
   "id": "ed505dde6fc4f906"
  },
  {
   "cell_type": "code",
   "execution_count": 23,
   "outputs": [
    {
     "name": "stdout",
     "output_type": "stream",
     "text": [
      "torch.Size([10])\n"
     ]
    }
   ],
   "source": [
    "v_out_new = v_out.sum(dim=1)\n",
    "print(v_out_new.size())"
   ],
   "metadata": {
    "collapsed": false,
    "ExecuteTime": {
     "end_time": "2023-11-07T11:33:07.276796800Z",
     "start_time": "2023-11-07T11:33:07.251411800Z"
    }
   },
   "id": "abc3bac79f020ed"
  },
  {
   "cell_type": "code",
   "execution_count": 25,
   "outputs": [],
   "source": [
    "# get output\n",
    "mlp_0_weight = copy.deepcopy(model['mlp.0.weight'])\n",
    "mlp_0_bias = copy.deepcopy(model['mlp.0.bias'])\n",
    "mlp_1_weight = copy.deepcopy(model['mlp.2.weight'])\n",
    "mlp_1_bias = copy.deepcopy(model['mlp.2.bias'])\n"
   ],
   "metadata": {
    "collapsed": false,
    "ExecuteTime": {
     "end_time": "2023-11-07T11:34:20.256003100Z",
     "start_time": "2023-11-07T11:34:20.247199500Z"
    }
   },
   "id": "cf3860b645f1c45"
  },
  {
   "cell_type": "code",
   "execution_count": 26,
   "outputs": [
    {
     "name": "stdout",
     "output_type": "stream",
     "text": [
      "torch.Size([64, 32])\n",
      "torch.Size([64])\n",
      "torch.Size([11, 64])\n",
      "torch.Size([11])\n"
     ]
    }
   ],
   "source": [
    "print (mlp_0_weight.size())\n",
    "print (mlp_0_bias.size())\n",
    "print (mlp_1_weight.size())\n",
    "print (mlp_1_bias.size())"
   ],
   "metadata": {
    "collapsed": false,
    "ExecuteTime": {
     "end_time": "2023-11-07T11:34:23.487598300Z",
     "start_time": "2023-11-07T11:34:23.473091600Z"
    }
   },
   "id": "c30d67ac282600a7"
  },
  {
   "cell_type": "code",
   "execution_count": 27,
   "outputs": [],
   "source": [
    "v_out_new_new = v_out.sum(dim=0)"
   ],
   "metadata": {
    "collapsed": false,
    "ExecuteTime": {
     "end_time": "2023-11-07T11:36:26.636089100Z",
     "start_time": "2023-11-07T11:36:26.628934900Z"
    }
   },
   "id": "8d508573d96655f5"
  },
  {
   "cell_type": "code",
   "execution_count": 28,
   "outputs": [
    {
     "name": "stdout",
     "output_type": "stream",
     "text": [
      "torch.Size([32])\n"
     ]
    }
   ],
   "source": [
    "print(v_out_new_new.size())"
   ],
   "metadata": {
    "collapsed": false,
    "ExecuteTime": {
     "end_time": "2023-11-07T11:36:28.885679600Z",
     "start_time": "2023-11-07T11:36:28.863422Z"
    }
   },
   "id": "8740ecb5ccbd17fb"
  },
  {
   "cell_type": "code",
   "execution_count": 29,
   "outputs": [
    {
     "data": {
      "text/plain": "torch.Size([64])"
     },
     "execution_count": 29,
     "metadata": {},
     "output_type": "execute_result"
    }
   ],
   "source": [
    "output_1 = torch.matmul(v_out_new_new, mlp_0_weight.transpose(0, 1)) + mlp_0_bias\n",
    "output_1.size()"
   ],
   "metadata": {
    "collapsed": false,
    "ExecuteTime": {
     "end_time": "2023-11-07T11:36:41.351209800Z",
     "start_time": "2023-11-07T11:36:41.332844800Z"
    }
   },
   "id": "214a57d513e99430"
  },
  {
   "cell_type": "code",
   "execution_count": 30,
   "outputs": [],
   "source": [
    "output_1_relu = nn.functional.relu(output_1)"
   ],
   "metadata": {
    "collapsed": false,
    "ExecuteTime": {
     "end_time": "2023-11-07T11:36:51.100089700Z",
     "start_time": "2023-11-07T11:36:51.080849600Z"
    }
   },
   "id": "f04b330c4509ff46"
  },
  {
   "cell_type": "code",
   "execution_count": 31,
   "outputs": [],
   "source": [
    "output_2 = torch.matmul(output_1_relu, mlp_1_weight.transpose(0, 1)) + mlp_1_bias"
   ],
   "metadata": {
    "collapsed": false,
    "ExecuteTime": {
     "end_time": "2023-11-07T11:36:57.019986600Z",
     "start_time": "2023-11-07T11:36:57.004965300Z"
    }
   },
   "id": "aa6f0c351036c8d5"
  },
  {
   "cell_type": "code",
   "execution_count": 32,
   "outputs": [
    {
     "name": "stdout",
     "output_type": "stream",
     "text": [
      "torch.Size([11])\n"
     ]
    }
   ],
   "source": [
    "print(output_2.size())"
   ],
   "metadata": {
    "collapsed": false,
    "ExecuteTime": {
     "end_time": "2023-11-07T11:36:59.564571400Z",
     "start_time": "2023-11-07T11:36:59.548481200Z"
    }
   },
   "id": "86b7e81b954894b0"
  },
  {
   "cell_type": "code",
   "execution_count": 33,
   "outputs": [
    {
     "name": "stdout",
     "output_type": "stream",
     "text": [
      "tensor([ -5.0723,   8.9644,  14.0118,  30.5182, -21.5813,   1.5899,  19.3786,\n",
      "         13.1759, -19.6485, -18.1134, -44.3425])\n"
     ]
    }
   ],
   "source": [
    "print(output_2)"
   ],
   "metadata": {
    "collapsed": false,
    "ExecuteTime": {
     "end_time": "2023-11-07T11:37:06.052809700Z",
     "start_time": "2023-11-07T11:37:06.036495Z"
    }
   },
   "id": "43181e7a90f9889c"
  },
  {
   "cell_type": "code",
   "execution_count": 34,
   "outputs": [
    {
     "ename": "IndexError",
     "evalue": "Dimension out of range (expected to be in range of [-1, 0], but got 1)",
     "output_type": "error",
     "traceback": [
      "\u001B[1;31m---------------------------------------------------------------------------\u001B[0m",
      "\u001B[1;31mIndexError\u001B[0m                                Traceback (most recent call last)",
      "Cell \u001B[1;32mIn[34], line 1\u001B[0m\n\u001B[1;32m----> 1\u001B[0m \u001B[38;5;28mprint\u001B[39m(\u001B[43moutput_2\u001B[49m\u001B[38;5;241;43m.\u001B[39;49m\u001B[43margmax\u001B[49m\u001B[43m(\u001B[49m\u001B[43mdim\u001B[49m\u001B[38;5;241;43m=\u001B[39;49m\u001B[38;5;241;43m1\u001B[39;49m\u001B[43m)\u001B[49m)\n",
      "\u001B[1;31mIndexError\u001B[0m: Dimension out of range (expected to be in range of [-1, 0], but got 1)"
     ]
    }
   ],
   "source": [
    "    "
   ],
   "metadata": {
    "collapsed": false,
    "ExecuteTime": {
     "end_time": "2023-11-07T11:37:10.749653500Z",
     "start_time": "2023-11-07T11:37:10.732002100Z"
    }
   },
   "id": "1252d44e40e6b902"
  },
  {
   "cell_type": "code",
   "execution_count": null,
   "outputs": [],
   "source": [],
   "metadata": {
    "collapsed": false
   },
   "id": "d608d3a8c9364f86"
  }
 ],
 "metadata": {
  "kernelspec": {
   "display_name": "Python 3",
   "language": "python",
   "name": "python3"
  },
  "language_info": {
   "codemirror_mode": {
    "name": "ipython",
    "version": 2
   },
   "file_extension": ".py",
   "mimetype": "text/x-python",
   "name": "python",
   "nbconvert_exporter": "python",
   "pygments_lexer": "ipython2",
   "version": "2.7.6"
  }
 },
 "nbformat": 4,
 "nbformat_minor": 5
}
