{
 "cells": [
  {
   "cell_type": "code",
   "execution_count": 22,
   "outputs": [],
   "source": [
    "import torch\n",
    "import torch.nn as nn\n",
    "import copy\n",
    "\n",
    "import os\n",
    "import sys\n",
    "sys.path.append('./train')"
   ],
   "metadata": {
    "collapsed": false,
    "ExecuteTime": {
     "end_time": "2023-11-10T18:33:21.485245800Z",
     "start_time": "2023-11-10T18:33:21.460471500Z"
    }
   },
   "id": "95d409da38500df0"
  },
  {
   "cell_type": "code",
   "execution_count": 107,
   "outputs": [],
   "source": [
    "from train.dset import target_func"
   ],
   "metadata": {
    "collapsed": false,
    "ExecuteTime": {
     "end_time": "2023-11-10T20:03:22.847368200Z",
     "start_time": "2023-11-10T20:03:22.824014700Z"
    }
   },
   "id": "7929400c7d631235"
  },
  {
   "cell_type": "code",
   "execution_count": 91,
   "outputs": [],
   "source": [
    "# get keys\n",
    "from train.dset import NumberSequenceDataset # when used, change config path in dset.py.\n",
    "# get dataset from dset\n",
    "dataset = NumberSequenceDataset(1000,10)"
   ],
   "metadata": {
    "collapsed": false,
    "ExecuteTime": {
     "end_time": "2023-11-10T19:58:33.884077Z",
     "start_time": "2023-11-10T19:58:33.871891100Z"
    }
   },
   "id": "5c74234bc5578252"
  },
  {
   "cell_type": "code",
   "execution_count": 203,
   "outputs": [],
   "source": [
    "# load model\n",
    "model = torch.load('./model/model.pt')\n",
    "model_new = torch.load('model/model_self_regex0_42.0_92992.pt')"
   ],
   "metadata": {
    "collapsed": false,
    "ExecuteTime": {
     "end_time": "2023-11-10T20:30:19.326850600Z",
     "start_time": "2023-11-10T20:30:19.310890600Z"
    }
   },
   "id": "30d41de839254453"
  },
  {
   "cell_type": "code",
   "execution_count": 204,
   "outputs": [
    {
     "name": "stdout",
     "output_type": "stream",
     "text": [
      "torch.Size([8, 8])\n"
     ]
    }
   ],
   "source": [
    "print(model_new['q_matrix.weight'].size())\n",
    "# copy embedding\n",
    "embedding = copy.deepcopy(model_new['embedding.weight'])\n",
    "# copy qkv\n",
    "q_n = copy.deepcopy(model_new['q_matrix.weight'])\n",
    "k_n = copy.deepcopy(model_new['k_matrix.weight'])\n",
    "v_n = copy.deepcopy(model_new['v_matrix.weight'])\n",
    "# get qs and ks for each token\n",
    "t_qs_n = torch.matmul(embedding, q_n.transpose(0, 1))\n",
    "t_ks_n = torch.matmul(embedding, k_n.transpose(0, 1))\n",
    "t_vs_n = torch.matmul(embedding, v_n.transpose(0, 1))\n",
    "# get keys\n",
    "l_datas = len(dataset)\n",
    "# global keys = keys[:-5] divide into 5 sets and get average\n",
    "# local keys = the last 5 keys\n",
    "keys = []"
   ],
   "metadata": {
    "collapsed": false,
    "ExecuteTime": {
     "end_time": "2023-11-10T20:30:19.707905Z",
     "start_time": "2023-11-10T20:30:19.699021900Z"
    }
   },
   "id": "9c405efa7c134401"
  },
  {
   "cell_type": "code",
   "execution_count": 205,
   "outputs": [],
   "source": [
    "mlp_0_weight = copy.deepcopy(model_new['mlp.0.weight'])\n",
    "mlp_0_bias = copy.deepcopy(model_new['mlp.0.bias'])\n",
    "mlp_2_weight = copy.deepcopy(model_new['mlp.2.weight'])\n",
    "mlp_2_bias = copy.deepcopy(model_new['mlp.2.bias'])"
   ],
   "metadata": {
    "collapsed": false,
    "ExecuteTime": {
     "end_time": "2023-11-10T20:30:20.044012300Z",
     "start_time": "2023-11-10T20:30:20.036297Z"
    }
   },
   "id": "b3013a4756776c24"
  },
  {
   "cell_type": "code",
   "execution_count": 206,
   "outputs": [],
   "source": [
    "dataset = NumberSequenceDataset(1000,10,func_name='regex0')"
   ],
   "metadata": {
    "collapsed": false,
    "ExecuteTime": {
     "end_time": "2023-11-10T20:30:20.438234200Z",
     "start_time": "2023-11-10T20:30:20.429223100Z"
    }
   },
   "id": "c379c420650fd222"
  },
  {
   "cell_type": "code",
   "execution_count": 207,
   "outputs": [
    {
     "name": "stdout",
     "output_type": "stream",
     "text": [
      "1000\n"
     ]
    }
   ],
   "source": [
    "# keys: 1000 * (5 * 4)\n",
    "# last 4 keys + 1 global key as average\n",
    "keys = []\n",
    "t_ks_n_np = t_ks_n.clone()\n",
    "for i in range(l_datas):\n",
    "    data = dataset[i]\n",
    "    # last non-zero index\n",
    "    len_data = data.nonzero().size()[0]\n",
    "    # last 4 keys, if not enough, pad with 0\n",
    "    if len_data >= 4:\n",
    "        # last 4 keys from last non-zero index, key[i] = key for token i, count from max(3, len_data - 4)\n",
    "        keys.append([t_ks_n_np[i] for i in data[len_data - 4:len_data]])\n",
    "    else:\n",
    "        keys.append([t_ks_n_np[i] for i in data[:4]])\n",
    "    # global key. calculate average of all keys that are not 0\n",
    "    glob_key = sum([t_ks_n_np[i] for i in data if i != 0]) / len_data\n",
    "    keys[i].extend([glob_key])\n",
    "    # make keys[i] a 1D tensor\n",
    "    k_1d = torch.tensor([])\n",
    "    for k in keys[i]:\n",
    "        k_1d = torch.cat((k_1d, k), dim=0)\n",
    "    keys[i] = k_1d\n",
    "print(len(keys))\n",
    "        "
   ],
   "metadata": {
    "collapsed": false,
    "ExecuteTime": {
     "end_time": "2023-11-10T20:30:20.804947700Z",
     "start_time": "2023-11-10T20:30:20.714992200Z"
    }
   },
   "id": "f4a82a916f5141cb"
  },
  {
   "cell_type": "code",
   "execution_count": 208,
   "outputs": [],
   "source": [
    "def get_keys_arr(data):\n",
    "    # last non-zero index\n",
    "    len_data = data.nonzero().size()[0]\n",
    "    # last 4 keys, if not enough, pad with 0\n",
    "    kout = []\n",
    "    if len_data >= 4:\n",
    "        # last 4 keys from last non-zero index, key[i] = key for token i, count from max(3, len_data - 4)\n",
    "        kout=[t_ks_n_np[i] for i in data[len_data - 4:len_data]]\n",
    "    else:\n",
    "        kout=[t_ks_n_np[i] for i in data[:4]]\n",
    "    # global key. calculate average of all keys that are not 0\n",
    "    glob_key = sum([t_ks_n_np[i] for i in data if i != 0]) / len_data\n",
    "    kout.extend([glob_key])\n",
    "    # make keys[i] a 1D tensor\n",
    "    k_1d = torch.tensor([])\n",
    "    for k in kout:\n",
    "        k_1d = torch.cat((k_1d, k), dim=0)\n",
    "    return k_1d"
   ],
   "metadata": {
    "collapsed": false,
    "ExecuteTime": {
     "end_time": "2023-11-10T20:30:21.287189100Z",
     "start_time": "2023-11-10T20:30:21.285684500Z"
    }
   },
   "id": "b53b606b040ef8fc"
  },
  {
   "cell_type": "code",
   "execution_count": 209,
   "outputs": [
    {
     "name": "stdout",
     "output_type": "stream",
     "text": [
      "1000\n"
     ]
    }
   ],
   "source": [
    "# get model output from keys\n",
    "def mod_out(data):\n",
    "    k_data = [t_ks_n[i] for i in data]\n",
    "    #print('k_data', k_data)\n",
    "    last_non_zero = data.nonzero().size()[0] - 1\n",
    "    #print('last_non_zero', last_non_zero)\n",
    "    q_data = t_qs_n[data[last_non_zero]]\n",
    "    #print('q_data', q_data)\n",
    "    v_data = [t_vs_n[i] for i in data]\n",
    "    #print('v_data', v_data)\n",
    "    # compute attention\n",
    "    t_att = torch.matmul(q_data, torch.stack(k_data).transpose(0, 1))\n",
    "    #print('t_att', t_att)\n",
    "    # get v\n",
    "    v_s = torch.stack(v_data)\n",
    "    #print('v_s', v_s)\n",
    "    v_out = torch.matmul(t_att, v_s)\n",
    "    #print('v_out', v_out)\n",
    "    # get output\n",
    "    output_1 = torch.matmul(v_out, mlp_0_weight.transpose(0, 1)) + mlp_0_bias\n",
    "    output_1_relu = nn.functional.relu(output_1)\n",
    "    output_2 = torch.matmul(output_1_relu, mlp_2_weight.transpose(0, 1)) + mlp_2_bias\n",
    "    softmaxed = nn.functional.softmax(output_2, dim=0)\n",
    "    return softmaxed\n",
    "    \n",
    "corr = 0\n",
    "for i in range(1000):\n",
    "    if mod_out(dataset[i]).argmax(dim=0) == target_func(dataset[i], 'regex0'):\n",
    "        corr += 1\n",
    "print(corr)"
   ],
   "metadata": {
    "collapsed": false,
    "ExecuteTime": {
     "end_time": "2023-11-10T20:30:21.899078Z",
     "start_time": "2023-11-10T20:30:21.754981600Z"
    }
   },
   "id": "790b1d62e18b38e3"
  },
  {
   "cell_type": "code",
   "execution_count": 210,
   "outputs": [
    {
     "name": "stdout",
     "output_type": "stream",
     "text": [
      "[[-1.2958064e+00  1.1863539e+00  1.6428181e+00  1.9219532e+00\n",
      "   6.5385967e-01  1.5705411e+00  6.6882133e-01 -1.1019793e+00\n",
      "  -1.2958062e+00  1.1863540e+00  1.6428181e+00  1.9219534e+00\n",
      "   6.5385973e-01  1.5705410e+00  6.6882122e-01 -1.1019791e+00\n",
      "   4.5369685e-01  4.5017153e-02  2.8765538e-01 -6.4942002e-02\n",
      "  -2.2207861e+00 -6.9946349e-02  1.2149150e+00 -5.9931302e-01\n",
      "   4.5369655e-01  4.5017123e-02  2.8765532e-01 -6.4941823e-02\n",
      "  -2.2207859e+00 -6.9946468e-02  1.2149153e+00 -5.9931302e-01\n",
      "  -4.2105490e-01  6.1568558e-01  9.6523666e-01  9.2850542e-01\n",
      "  -7.8346336e-01  7.5029743e-01  9.4186813e-01 -8.5064620e-01]\n",
      " [-1.2958063e+00  1.1863539e+00  1.6428181e+00  1.9219532e+00\n",
      "   6.5385938e-01  1.5705411e+00  6.6882122e-01 -1.1019793e+00\n",
      "   4.5369655e-01  4.5017123e-02  2.8765529e-01 -6.4942002e-02\n",
      "  -2.2207863e+00 -6.9946468e-02  1.2149152e+00 -5.9931302e-01\n",
      "   4.5369655e-01  4.5017123e-02  2.8765529e-01 -6.4942062e-02\n",
      "  -2.2207863e+00 -6.9946468e-02  1.2149152e+00 -5.9931302e-01\n",
      "  -1.2958063e+00  1.1863539e+00  1.6428182e+00  1.9219532e+00\n",
      "   6.5385944e-01  1.5705411e+00  6.6882122e-01 -1.1019793e+00\n",
      "  -5.9600514e-01  7.2981924e-01  1.1007531e+00  1.1271951e+00\n",
      "  -4.9599892e-01  9.1434610e-01  8.8725883e-01 -9.0091276e-01]\n",
      " [-1.2958064e+00  1.1863539e+00  1.6428181e+00  1.9219533e+00\n",
      "   6.5385973e-01  1.5705411e+00  6.6882128e-01 -1.1019793e+00\n",
      "   0.0000000e+00 -2.9802322e-07  2.3841858e-07  1.1920929e-07\n",
      "   5.9604645e-08 -2.9802322e-07  2.3841858e-07 -2.9802322e-07\n",
      "  -4.4703484e-08  1.1920929e-07  1.7881393e-07  0.0000000e+00\n",
      "   1.1920929e-07  8.9406967e-08 -1.1920929e-07  1.1920929e-07\n",
      "  -8.9406967e-08 -8.9406967e-08  5.9604645e-08 -1.7881393e-07\n",
      "   0.0000000e+00 -2.0861626e-07 -1.7881393e-07 -2.9802322e-08\n",
      "  -1.2958062e+00  1.1863540e+00  1.6428182e+00  1.9219532e+00\n",
      "   6.5385938e-01  1.5705413e+00  6.6882116e-01 -1.1019793e+00]\n",
      " [-1.2958063e+00  1.1863539e+00  1.6428181e+00  1.9219532e+00\n",
      "   6.5385938e-01  1.5705411e+00  6.6882122e-01 -1.1019793e+00\n",
      "   4.5369655e-01  4.5017123e-02  2.8765529e-01 -6.4942002e-02\n",
      "  -2.2207863e+00 -6.9946468e-02  1.2149152e+00 -5.9931302e-01\n",
      "   4.5369655e-01  4.5017123e-02  2.8765529e-01 -6.4942062e-02\n",
      "  -2.2207863e+00 -6.9946468e-02  1.2149152e+00 -5.9931302e-01\n",
      "  -1.2958063e+00  1.1863539e+00  1.6428182e+00  1.9219532e+00\n",
      "   6.5385944e-01  1.5705411e+00  6.6882122e-01 -1.1019793e+00\n",
      "  -5.9600514e-01  7.2981924e-01  1.1007531e+00  1.1271951e+00\n",
      "  -4.9599892e-01  9.1434610e-01  8.8725883e-01 -9.0091276e-01]\n",
      " [-1.2958068e+00  1.1863538e+00  1.6428182e+00  1.9219532e+00\n",
      "   6.5386015e-01  1.5705413e+00  6.6882122e-01 -1.1019794e+00\n",
      "   4.5369703e-01  4.5017123e-02  2.8765482e-01 -6.4942360e-02\n",
      "  -2.2207861e+00 -6.9947124e-02  1.2149150e+00 -5.9931320e-01\n",
      "   4.5369667e-01  4.5017332e-02  2.8765553e-01 -6.4941883e-02\n",
      "  -2.2207854e+00 -6.9946408e-02  1.2149150e+00 -5.9931302e-01\n",
      "  -1.2958066e+00  1.1863542e+00  1.6428173e+00  1.9219530e+00\n",
      "   6.5386003e-01  1.5705423e+00  6.6882122e-01 -1.1019788e+00\n",
      "  -5.9600508e-01  7.2981918e-01  1.1007529e+00  1.1271952e+00\n",
      "  -4.9599913e-01  9.1434592e-01  8.8725877e-01 -9.0091270e-01]\n",
      " [-1.2958063e+00  1.1863539e+00  1.6428181e+00  1.9219532e+00\n",
      "   6.5385938e-01  1.5705411e+00  6.6882122e-01 -1.1019793e+00\n",
      "   4.5369655e-01  4.5017123e-02  2.8765529e-01 -6.4942002e-02\n",
      "  -2.2207863e+00 -6.9946468e-02  1.2149152e+00 -5.9931302e-01\n",
      "   4.5369655e-01  4.5017123e-02  2.8765529e-01 -6.4942062e-02\n",
      "  -2.2207863e+00 -6.9946468e-02  1.2149152e+00 -5.9931302e-01\n",
      "  -1.2958063e+00  1.1863539e+00  1.6428182e+00  1.9219532e+00\n",
      "   6.5385944e-01  1.5705411e+00  6.6882122e-01 -1.1019793e+00\n",
      "  -5.9600514e-01  7.2981924e-01  1.1007531e+00  1.1271951e+00\n",
      "  -4.9599892e-01  9.1434610e-01  8.8725883e-01 -9.0091276e-01]\n",
      " [-1.2958064e+00  1.1863539e+00  1.6428181e+00  1.9219534e+00\n",
      "   6.5385973e-01  1.5705413e+00  6.6882128e-01 -1.1019794e+00\n",
      "  -1.2958062e+00  1.1863539e+00  1.6428182e+00  1.9219536e+00\n",
      "   6.5385979e-01  1.5705410e+00  6.6882116e-01 -1.1019791e+00\n",
      "   4.5369691e-01  4.5017183e-02  2.8765541e-01 -6.4942062e-02\n",
      "  -2.2207861e+00 -6.9946378e-02  1.2149152e+00 -5.9931302e-01\n",
      "  -8.9406967e-08 -8.9406967e-08  0.0000000e+00 -2.3841858e-07\n",
      "   2.9802322e-08 -1.7881393e-07 -2.3841858e-07  0.0000000e+00\n",
      "  -7.1263868e-01  8.0590838e-01  1.1910971e+00  1.2596548e+00\n",
      "  -3.0435592e-01  1.0237119e+00  8.5085249e-01 -9.3442386e-01]\n",
      " [ 4.5369661e-01  4.5016944e-02  2.8765529e-01 -6.4942360e-02\n",
      "  -2.2207856e+00 -6.9946408e-02  1.2149150e+00 -5.9931290e-01\n",
      "  -1.2958062e+00  1.1863540e+00  1.6428182e+00  1.9219536e+00\n",
      "   6.5385979e-01  1.5705409e+00  6.6882116e-01 -1.1019791e+00\n",
      "  -1.2958064e+00  1.1863539e+00  1.6428180e+00  1.9219527e+00\n",
      "   6.5385991e-01  1.5705408e+00  6.6882122e-01 -1.1019793e+00\n",
      "   4.5369661e-01  4.5017123e-02  2.8765529e-01 -6.4941883e-02\n",
      "  -2.2207859e+00 -6.9946468e-02  1.2149153e+00 -5.9931302e-01\n",
      "  -5.4601955e-01  6.9720972e-01  1.0620341e+00  1.0704267e+00\n",
      "  -5.7813156e-01  8.6747509e-01  9.0286160e-01 -8.8655090e-01]\n",
      " [-1.2958063e+00  1.1863539e+00  1.6428181e+00  1.9219532e+00\n",
      "   6.5385938e-01  1.5705411e+00  6.6882122e-01 -1.1019793e+00\n",
      "   4.5369655e-01  4.5017123e-02  2.8765529e-01 -6.4942002e-02\n",
      "  -2.2207863e+00 -6.9946468e-02  1.2149152e+00 -5.9931302e-01\n",
      "   4.5369655e-01  4.5017123e-02  2.8765529e-01 -6.4942062e-02\n",
      "  -2.2207863e+00 -6.9946468e-02  1.2149152e+00 -5.9931302e-01\n",
      "  -1.2958063e+00  1.1863539e+00  1.6428182e+00  1.9219532e+00\n",
      "   6.5385944e-01  1.5705411e+00  6.6882122e-01 -1.1019793e+00\n",
      "  -5.9600514e-01  7.2981924e-01  1.1007531e+00  1.1271951e+00\n",
      "  -4.9599892e-01  9.1434610e-01  8.8725883e-01 -9.0091276e-01]\n",
      " [ 4.5369661e-01  4.5016885e-02  2.8765512e-01 -6.4942241e-02\n",
      "  -2.2207856e+00 -6.9946408e-02  1.2149150e+00 -5.9931290e-01\n",
      "   4.5369619e-01  4.5016885e-02  2.8765529e-01 -6.4942360e-02\n",
      "  -2.2207863e+00 -6.9946766e-02  1.2149152e+00 -5.9931314e-01\n",
      "  -1.2958062e+00  1.1863539e+00  1.6428177e+00  1.9219530e+00\n",
      "   6.5385979e-01  1.5705408e+00  6.6882122e-01 -1.1019793e+00\n",
      "  -1.2958063e+00  1.1863539e+00  1.6428180e+00  1.9219530e+00\n",
      "   6.5385979e-01  1.5705416e+00  6.6882122e-01 -1.1019790e+00\n",
      "  -7.1263868e-01  8.0590838e-01  1.1910971e+00  1.2596548e+00\n",
      "  -3.0435592e-01  1.0237120e+00  8.5085255e-01 -9.3442386e-01]\n",
      " [-1.2958063e+00  1.1863539e+00  1.6428181e+00  1.9219532e+00\n",
      "   6.5385938e-01  1.5705411e+00  6.6882122e-01 -1.1019793e+00\n",
      "   4.5369655e-01  4.5017123e-02  2.8765529e-01 -6.4942002e-02\n",
      "  -2.2207863e+00 -6.9946468e-02  1.2149152e+00 -5.9931302e-01\n",
      "   4.5369655e-01  4.5017123e-02  2.8765529e-01 -6.4942062e-02\n",
      "  -2.2207863e+00 -6.9946468e-02  1.2149152e+00 -5.9931302e-01\n",
      "  -1.2958063e+00  1.1863539e+00  1.6428182e+00  1.9219532e+00\n",
      "   6.5385944e-01  1.5705411e+00  6.6882122e-01 -1.1019793e+00\n",
      "  -5.9600514e-01  7.2981924e-01  1.1007531e+00  1.1271951e+00\n",
      "  -4.9599892e-01  9.1434610e-01  8.8725883e-01 -9.0091276e-01]\n",
      " [-1.2958065e+00  1.1863539e+00  1.6428181e+00  1.9219534e+00\n",
      "   6.5385973e-01  1.5705413e+00  6.6882128e-01 -1.1019794e+00\n",
      "  -1.2958061e+00  1.1863539e+00  1.6428182e+00  1.9219536e+00\n",
      "   6.5385979e-01  1.5705409e+00  6.6882116e-01 -1.1019791e+00\n",
      "  -5.9604645e-08  1.1920929e-07  2.3841858e-07 -5.9604645e-08\n",
      "   1.1920929e-07  2.9802322e-08 -1.7881393e-07  2.3841858e-07\n",
      "  -1.0430813e-07 -1.1920929e-07  5.9604645e-08 -2.3841858e-07\n",
      "   2.9802322e-08 -1.4901161e-07 -2.3841858e-07  0.0000000e+00\n",
      "  -1.2958063e+00  1.1863540e+00  1.6428182e+00  1.9219532e+00\n",
      "   6.5385938e-01  1.5705413e+00  6.6882116e-01 -1.1019793e+00]\n",
      " [-1.2958063e+00  1.1863539e+00  1.6428181e+00  1.9219532e+00\n",
      "   6.5385938e-01  1.5705411e+00  6.6882122e-01 -1.1019793e+00\n",
      "   4.5369655e-01  4.5017123e-02  2.8765529e-01 -6.4942002e-02\n",
      "  -2.2207863e+00 -6.9946468e-02  1.2149152e+00 -5.9931302e-01\n",
      "   4.5369655e-01  4.5017123e-02  2.8765529e-01 -6.4942062e-02\n",
      "  -2.2207863e+00 -6.9946468e-02  1.2149152e+00 -5.9931302e-01\n",
      "  -1.2958063e+00  1.1863539e+00  1.6428182e+00  1.9219532e+00\n",
      "   6.5385944e-01  1.5705411e+00  6.6882122e-01 -1.1019793e+00\n",
      "  -5.9600514e-01  7.2981924e-01  1.1007531e+00  1.1271951e+00\n",
      "  -4.9599892e-01  9.1434610e-01  8.8725883e-01 -9.0091276e-01]\n",
      " [-1.2958063e+00  1.1863539e+00  1.6428181e+00  1.9219532e+00\n",
      "   6.5385938e-01  1.5705411e+00  6.6882122e-01 -1.1019793e+00\n",
      "   4.5369655e-01  4.5017123e-02  2.8765529e-01 -6.4942002e-02\n",
      "  -2.2207863e+00 -6.9946468e-02  1.2149152e+00 -5.9931302e-01\n",
      "   4.5369655e-01  4.5017123e-02  2.8765529e-01 -6.4942062e-02\n",
      "  -2.2207863e+00 -6.9946468e-02  1.2149152e+00 -5.9931302e-01\n",
      "  -1.2958063e+00  1.1863539e+00  1.6428182e+00  1.9219532e+00\n",
      "   6.5385944e-01  1.5705411e+00  6.6882122e-01 -1.1019793e+00\n",
      "  -5.9600514e-01  7.2981924e-01  1.1007531e+00  1.1271951e+00\n",
      "  -4.9599892e-01  9.1434610e-01  8.8725883e-01 -9.0091276e-01]\n",
      " [-1.2958063e+00  1.1863539e+00  1.6428181e+00  1.9219532e+00\n",
      "   6.5385938e-01  1.5705411e+00  6.6882122e-01 -1.1019793e+00\n",
      "   4.5369655e-01  4.5017123e-02  2.8765529e-01 -6.4942002e-02\n",
      "  -2.2207863e+00 -6.9946468e-02  1.2149152e+00 -5.9931302e-01\n",
      "   4.5369655e-01  4.5017123e-02  2.8765529e-01 -6.4942062e-02\n",
      "  -2.2207863e+00 -6.9946468e-02  1.2149152e+00 -5.9931302e-01\n",
      "  -1.2958063e+00  1.1863539e+00  1.6428182e+00  1.9219532e+00\n",
      "   6.5385944e-01  1.5705411e+00  6.6882122e-01 -1.1019793e+00\n",
      "  -5.9600514e-01  7.2981924e-01  1.1007531e+00  1.1271951e+00\n",
      "  -4.9599892e-01  9.1434610e-01  8.8725883e-01 -9.0091276e-01]\n",
      " [-1.2958063e+00  1.1863539e+00  1.6428181e+00  1.9219532e+00\n",
      "   6.5385938e-01  1.5705411e+00  6.6882122e-01 -1.1019793e+00\n",
      "   4.5369655e-01  4.5017123e-02  2.8765529e-01 -6.4942002e-02\n",
      "  -2.2207863e+00 -6.9946468e-02  1.2149152e+00 -5.9931302e-01\n",
      "   4.5369655e-01  4.5017123e-02  2.8765529e-01 -6.4942062e-02\n",
      "  -2.2207863e+00 -6.9946468e-02  1.2149152e+00 -5.9931302e-01\n",
      "  -1.2958063e+00  1.1863539e+00  1.6428182e+00  1.9219532e+00\n",
      "   6.5385944e-01  1.5705411e+00  6.6882122e-01 -1.1019793e+00\n",
      "  -5.9600514e-01  7.2981924e-01  1.1007531e+00  1.1271951e+00\n",
      "  -4.9599892e-01  9.1434610e-01  8.8725883e-01 -9.0091276e-01]\n",
      " [-1.2958063e+00  1.1863539e+00  1.6428181e+00  1.9219532e+00\n",
      "   6.5385938e-01  1.5705411e+00  6.6882122e-01 -1.1019793e+00\n",
      "   4.5369655e-01  4.5017123e-02  2.8765529e-01 -6.4942002e-02\n",
      "  -2.2207863e+00 -6.9946468e-02  1.2149152e+00 -5.9931302e-01\n",
      "   4.5369655e-01  4.5017123e-02  2.8765529e-01 -6.4942062e-02\n",
      "  -2.2207863e+00 -6.9946468e-02  1.2149152e+00 -5.9931302e-01\n",
      "  -1.2958063e+00  1.1863539e+00  1.6428182e+00  1.9219532e+00\n",
      "   6.5385944e-01  1.5705411e+00  6.6882122e-01 -1.1019793e+00\n",
      "  -5.9600514e-01  7.2981924e-01  1.1007531e+00  1.1271951e+00\n",
      "  -4.9599892e-01  9.1434610e-01  8.8725883e-01 -9.0091276e-01]\n",
      " [-1.2958063e+00  1.1863539e+00  1.6428181e+00  1.9219532e+00\n",
      "   6.5385938e-01  1.5705411e+00  6.6882122e-01 -1.1019793e+00\n",
      "   4.5369655e-01  4.5017123e-02  2.8765529e-01 -6.4942002e-02\n",
      "  -2.2207863e+00 -6.9946468e-02  1.2149152e+00 -5.9931302e-01\n",
      "   4.5369655e-01  4.5017123e-02  2.8765529e-01 -6.4942062e-02\n",
      "  -2.2207863e+00 -6.9946468e-02  1.2149152e+00 -5.9931302e-01\n",
      "  -1.2958063e+00  1.1863539e+00  1.6428182e+00  1.9219532e+00\n",
      "   6.5385944e-01  1.5705411e+00  6.6882122e-01 -1.1019793e+00\n",
      "  -5.9600514e-01  7.2981924e-01  1.1007531e+00  1.1271951e+00\n",
      "  -4.9599892e-01  9.1434610e-01  8.8725883e-01 -9.0091276e-01]\n",
      " [-1.2958063e+00  1.1863539e+00  1.6428181e+00  1.9219532e+00\n",
      "   6.5385938e-01  1.5705411e+00  6.6882122e-01 -1.1019793e+00\n",
      "   4.5369655e-01  4.5017123e-02  2.8765529e-01 -6.4942002e-02\n",
      "  -2.2207863e+00 -6.9946468e-02  1.2149152e+00 -5.9931302e-01\n",
      "   4.5369655e-01  4.5017123e-02  2.8765529e-01 -6.4942062e-02\n",
      "  -2.2207863e+00 -6.9946468e-02  1.2149152e+00 -5.9931302e-01\n",
      "  -1.2958063e+00  1.1863539e+00  1.6428182e+00  1.9219532e+00\n",
      "   6.5385944e-01  1.5705411e+00  6.6882122e-01 -1.1019793e+00\n",
      "  -5.9600514e-01  7.2981924e-01  1.1007531e+00  1.1271951e+00\n",
      "  -4.9599892e-01  9.1434610e-01  8.8725883e-01 -9.0091276e-01]\n",
      " [-1.2958063e+00  1.1863539e+00  1.6428181e+00  1.9219532e+00\n",
      "   6.5385938e-01  1.5705411e+00  6.6882122e-01 -1.1019793e+00\n",
      "   4.5369655e-01  4.5017123e-02  2.8765529e-01 -6.4942002e-02\n",
      "  -2.2207863e+00 -6.9946468e-02  1.2149152e+00 -5.9931302e-01\n",
      "   4.5369655e-01  4.5017123e-02  2.8765529e-01 -6.4942062e-02\n",
      "  -2.2207863e+00 -6.9946468e-02  1.2149152e+00 -5.9931302e-01\n",
      "  -1.2958063e+00  1.1863539e+00  1.6428182e+00  1.9219532e+00\n",
      "   6.5385944e-01  1.5705411e+00  6.6882122e-01 -1.1019793e+00\n",
      "  -5.9600514e-01  7.2981924e-01  1.1007531e+00  1.1271951e+00\n",
      "  -4.9599892e-01  9.1434610e-01  8.8725883e-01 -9.0091276e-01]]\n"
     ]
    },
    {
     "name": "stderr",
     "output_type": "stream",
     "text": [
      "C:\\Work Space\\AI Security\\Transformer\\venv\\lib\\site-packages\\sklearn\\base.py:1152: ConvergenceWarning: Number of distinct clusters (7) found smaller than n_clusters (20). Possibly due to duplicate points in X.\n",
      "  return fit_method(estimator, *args, **kwargs)\n"
     ]
    }
   ],
   "source": [
    "# k-means clustering keys\n",
    "from sklearn.cluster import KMeans\n",
    "import numpy as np\n",
    "\n",
    "keys_np = np.array(keys)\n",
    "km = KMeans(n_clusters=20, random_state=0, n_init=10, max_iter=1000).fit(keys_np)\n",
    "# get cluster centers\n",
    "centers = km.cluster_centers_\n",
    "print(centers) # these are states"
   ],
   "metadata": {
    "collapsed": false,
    "ExecuteTime": {
     "end_time": "2023-11-10T20:30:22.706479600Z",
     "start_time": "2023-11-10T20:30:22.610488300Z"
    }
   },
   "id": "34301f083205d15a"
  },
  {
   "cell_type": "code",
   "execution_count": 4,
   "outputs": [
    {
     "name": "stdout",
     "output_type": "stream",
     "text": [
      "embedding.weight\n",
      "q_matrix.weight\n",
      "k_matrix.weight\n",
      "v_matrix.weight\n",
      "mlp.0.weight\n",
      "mlp.0.bias\n",
      "mlp.2.weight\n",
      "mlp.2.bias\n"
     ]
    }
   ],
   "source": [
    "# define state transition matrix\n",
    "# vocab size * 20 * 20\n",
    "\n",
    "voc_size = 5\n",
    "trans_mat = np.zeros((voc_size, 20, 20))\n",
    "\n",
    "for i in range(l_datas):"
   ],
   "metadata": {
    "collapsed": false,
    "ExecuteTime": {
     "end_time": "2023-11-07T17:36:43.932755800Z",
     "start_time": "2023-11-07T17:36:43.916676100Z"
    }
   },
   "id": "c0c5d3710559f41c"
  },
  {
   "cell_type": "code",
   "execution_count": 5,
   "outputs": [
    {
     "name": "stdout",
     "output_type": "stream",
     "text": [
      "torch.Size([11, 32])\n"
     ]
    }
   ],
   "source": [
    "print(model['embedding.weight'].size())"
   ],
   "metadata": {
    "collapsed": false,
    "ExecuteTime": {
     "end_time": "2023-11-07T17:36:44.845189100Z",
     "start_time": "2023-11-07T17:36:44.829561700Z"
    }
   },
   "id": "2b32cc2c50aa4ec"
  },
  {
   "cell_type": "code",
   "execution_count": 6,
   "outputs": [],
   "source": [
    "import copy"
   ],
   "metadata": {
    "collapsed": false,
    "ExecuteTime": {
     "end_time": "2023-11-07T17:36:45.351528700Z",
     "start_time": "2023-11-07T17:36:45.335902100Z"
    }
   },
   "id": "ba6aabdbff8a8b1"
  },
  {
   "cell_type": "code",
   "execution_count": 7,
   "outputs": [],
   "source": [
    "# copy embedding\n",
    "embedding = copy.deepcopy(model['embedding.weight'])\n",
    "# copy qkv\n",
    "q = copy.deepcopy(model['q_matrix.weight'])\n",
    "k = copy.deepcopy(model['k_matrix.weight'])\n",
    "v = copy.deepcopy(model['v_matrix.weight'])"
   ],
   "metadata": {
    "collapsed": false,
    "ExecuteTime": {
     "end_time": "2023-11-07T17:36:46.020287700Z",
     "start_time": "2023-11-07T17:36:46.004634100Z"
    }
   },
   "id": "f5d7a77e3da96162"
  },
  {
   "cell_type": "code",
   "execution_count": 8,
   "outputs": [],
   "source": [
    "# get qs and ks for each token\n",
    "t_qs = torch.matmul(embedding, q.transpose(0, 1))\n",
    "t_ks = torch.matmul(embedding, k.transpose(0, 1))\n"
   ],
   "metadata": {
    "collapsed": false,
    "ExecuteTime": {
     "end_time": "2023-11-07T17:36:46.448709200Z",
     "start_time": "2023-11-07T17:36:46.440434800Z"
    }
   },
   "id": "2b77c28d24052e16"
  },
  {
   "cell_type": "code",
   "execution_count": 9,
   "outputs": [
    {
     "data": {
      "text/plain": "torch.Size([11, 32])"
     },
     "execution_count": 9,
     "metadata": {},
     "output_type": "execute_result"
    }
   ],
   "source": [
    "t_ks.size()"
   ],
   "metadata": {
    "collapsed": false,
    "ExecuteTime": {
     "end_time": "2023-11-07T17:36:46.901310700Z",
     "start_time": "2023-11-07T17:36:46.888201200Z"
    }
   },
   "id": "72db6cb0ab59dffe"
  },
  {
   "cell_type": "code",
   "execution_count": 10,
   "outputs": [
    {
     "name": "stdout",
     "output_type": "stream",
     "text": [
      "torch.Size([10, 10])\n"
     ]
    }
   ],
   "source": [
    "input_seq = [9, 5, 1, 6, 2, 7, 3, 8, 0, 0]\n",
    "# compute attention\n",
    "q_s = [t_qs[i] for i in input_seq]\n",
    "k_s = [t_ks[i] for i in input_seq]\n",
    "\n",
    "t_att = torch.matmul(torch.stack(q_s), torch.stack(k_s).transpose(0, 1))\n",
    "print(t_att.size())"
   ],
   "metadata": {
    "collapsed": false,
    "ExecuteTime": {
     "end_time": "2023-11-07T17:36:47.446663600Z",
     "start_time": "2023-11-07T17:36:47.431159200Z"
    }
   },
   "id": "b4870ed875ad91c4"
  },
  {
   "cell_type": "code",
   "execution_count": 11,
   "outputs": [
    {
     "data": {
      "text/plain": "torch.Size([11, 32])"
     },
     "execution_count": 11,
     "metadata": {},
     "output_type": "execute_result"
    }
   ],
   "source": [
    "# get v\n",
    "t_vs = torch.matmul(embedding, v.transpose(0, 1))\n",
    "t_vs.size()"
   ],
   "metadata": {
    "collapsed": false,
    "ExecuteTime": {
     "end_time": "2023-11-07T17:36:47.958966600Z",
     "start_time": "2023-11-07T17:36:47.943293700Z"
    }
   },
   "id": "c25faba00cbcdc84"
  },
  {
   "cell_type": "code",
   "execution_count": 12,
   "outputs": [
    {
     "data": {
      "text/plain": "torch.Size([10, 32])"
     },
     "execution_count": 12,
     "metadata": {},
     "output_type": "execute_result"
    }
   ],
   "source": [
    "v_s = [t_vs[i] for i in input_seq]\n",
    "v_s = torch.stack(v_s)\n",
    "v_s.size()"
   ],
   "metadata": {
    "collapsed": false,
    "ExecuteTime": {
     "end_time": "2023-11-07T17:36:48.524024100Z",
     "start_time": "2023-11-07T17:36:48.502348300Z"
    }
   },
   "id": "494b3b926dbaa68d"
  },
  {
   "cell_type": "code",
   "execution_count": 13,
   "outputs": [
    {
     "name": "stdout",
     "output_type": "stream",
     "text": [
      "tensor([[ -5.3959,  -2.9583,  -2.8686,  -2.5149,  -1.1299,  -0.0956,  -2.6343,\n",
      "          -3.0492,   0.0000,   0.0000],\n",
      "        [ -2.7484,  -6.9906,  -8.2938,  -4.3239,  -9.4224,   2.6181,   7.0164,\n",
      "           1.0293,   0.0000,   0.0000],\n",
      "        [ -4.2370,  -0.1084,  -5.9481,  -5.5022,  -6.7465,   1.6919,   2.9127,\n",
      "          -5.9568,   0.0000,   0.0000],\n",
      "        [ -2.9856,  -1.3564,   0.2384, -10.7287,  -8.0487,   4.9876,   6.5383,\n",
      "          -5.2695,   0.0000,   0.0000],\n",
      "        [ -2.6035,   2.2747,  -2.9804,  -4.2712,  -6.6119,   9.1776,   6.0342,\n",
      "          -4.5535,   0.0000,   0.0000],\n",
      "        [ -5.7663,   0.6663,  -3.3468,  -1.6183,  -2.1964,   5.6808,   5.1520,\n",
      "          -2.8558,   0.0000,   0.0000],\n",
      "        [ -5.4674,   2.0909,  -3.1084,  -3.0876,  -1.1979,   2.3100,   6.9338,\n",
      "          -5.8431,   0.0000,   0.0000],\n",
      "        [-10.6975,  -3.1499,  -5.9383, -11.6151,  -9.2356,   3.3039,   4.3325,\n",
      "         -11.9163,   0.0000,   0.0000],\n",
      "        [  0.0000,   0.0000,   0.0000,   0.0000,   0.0000,   0.0000,   0.0000,\n",
      "           0.0000,   0.0000,   0.0000],\n",
      "        [  0.0000,   0.0000,   0.0000,   0.0000,   0.0000,   0.0000,   0.0000,\n",
      "           0.0000,   0.0000,   0.0000]])\n"
     ]
    }
   ],
   "source": [
    "print(t_att)"
   ],
   "metadata": {
    "collapsed": false,
    "ExecuteTime": {
     "end_time": "2023-11-07T17:36:49.312298600Z",
     "start_time": "2023-11-07T17:36:49.294012900Z"
    }
   },
   "id": "e567af8e6056c2ca"
  },
  {
   "cell_type": "code",
   "execution_count": 14,
   "outputs": [],
   "source": [
    "v_out = torch.matmul(t_att, v_s)"
   ],
   "metadata": {
    "collapsed": false,
    "ExecuteTime": {
     "end_time": "2023-11-07T17:36:49.888650700Z",
     "start_time": "2023-11-07T17:36:49.858100400Z"
    }
   },
   "id": "10437a4ed493d5ee"
  },
  {
   "cell_type": "code",
   "execution_count": 15,
   "outputs": [
    {
     "name": "stdout",
     "output_type": "stream",
     "text": [
      "torch.Size([10, 32])\n"
     ]
    }
   ],
   "source": [
    "print(v_out.size())"
   ],
   "metadata": {
    "collapsed": false,
    "ExecuteTime": {
     "end_time": "2023-11-07T17:36:50.620728400Z",
     "start_time": "2023-11-07T17:36:50.605557900Z"
    }
   },
   "id": "ed505dde6fc4f906"
  },
  {
   "cell_type": "code",
   "execution_count": 16,
   "outputs": [
    {
     "name": "stdout",
     "output_type": "stream",
     "text": [
      "torch.Size([10])\n"
     ]
    }
   ],
   "source": [
    "v_out_new = v_out.sum(dim=1)\n",
    "print(v_out_new.size())"
   ],
   "metadata": {
    "collapsed": false,
    "ExecuteTime": {
     "end_time": "2023-11-07T17:36:51.106353200Z",
     "start_time": "2023-11-07T17:36:51.101338400Z"
    }
   },
   "id": "abc3bac79f020ed"
  },
  {
   "cell_type": "code",
   "execution_count": 17,
   "outputs": [],
   "source": [
    "# get output\n",
    "mlp_0_weight = copy.deepcopy(model['mlp.0.weight'])\n",
    "mlp_0_bias = copy.deepcopy(model['mlp.0.bias'])\n",
    "mlp_1_weight = copy.deepcopy(model['mlp.2.weight'])\n",
    "mlp_1_bias = copy.deepcopy(model['mlp.2.bias'])\n"
   ],
   "metadata": {
    "collapsed": false,
    "ExecuteTime": {
     "end_time": "2023-11-07T17:36:51.737374500Z",
     "start_time": "2023-11-07T17:36:51.725736900Z"
    }
   },
   "id": "cf3860b645f1c45"
  },
  {
   "cell_type": "code",
   "execution_count": 18,
   "outputs": [
    {
     "name": "stdout",
     "output_type": "stream",
     "text": [
      "torch.Size([64, 32])\n",
      "torch.Size([64])\n",
      "torch.Size([11, 64])\n",
      "torch.Size([11])\n"
     ]
    }
   ],
   "source": [
    "print (mlp_0_weight.size())\n",
    "print (mlp_0_bias.size())\n",
    "print (mlp_1_weight.size())\n",
    "print (mlp_1_bias.size())"
   ],
   "metadata": {
    "collapsed": false,
    "ExecuteTime": {
     "end_time": "2023-11-07T17:36:52.884139400Z",
     "start_time": "2023-11-07T17:36:52.874946700Z"
    }
   },
   "id": "c30d67ac282600a7"
  },
  {
   "cell_type": "code",
   "execution_count": 19,
   "outputs": [],
   "source": [
    "v_out_new_new = v_out.sum(dim=0)"
   ],
   "metadata": {
    "collapsed": false,
    "ExecuteTime": {
     "end_time": "2023-11-07T17:36:53.757618600Z",
     "start_time": "2023-11-07T17:36:53.744914500Z"
    }
   },
   "id": "8d508573d96655f5"
  },
  {
   "cell_type": "code",
   "execution_count": 20,
   "outputs": [
    {
     "name": "stdout",
     "output_type": "stream",
     "text": [
      "torch.Size([32])\n"
     ]
    }
   ],
   "source": [
    "print(v_out_new_new.size())"
   ],
   "metadata": {
    "collapsed": false,
    "ExecuteTime": {
     "end_time": "2023-11-07T17:36:56.849659500Z",
     "start_time": "2023-11-07T17:36:56.833897100Z"
    }
   },
   "id": "8740ecb5ccbd17fb"
  },
  {
   "cell_type": "code",
   "execution_count": 21,
   "outputs": [
    {
     "data": {
      "text/plain": "torch.Size([64])"
     },
     "execution_count": 21,
     "metadata": {},
     "output_type": "execute_result"
    }
   ],
   "source": [
    "output_1 = torch.matmul(v_out_new_new, mlp_0_weight.transpose(0, 1)) + mlp_0_bias\n",
    "output_1.size()"
   ],
   "metadata": {
    "collapsed": false,
    "ExecuteTime": {
     "end_time": "2023-11-07T17:36:57.713941900Z",
     "start_time": "2023-11-07T17:36:57.694577100Z"
    }
   },
   "id": "214a57d513e99430"
  },
  {
   "cell_type": "code",
   "execution_count": 22,
   "outputs": [],
   "source": [
    "output_1_relu = nn.functional.relu(output_1)"
   ],
   "metadata": {
    "collapsed": false,
    "ExecuteTime": {
     "end_time": "2023-11-07T17:36:58.545902900Z",
     "start_time": "2023-11-07T17:36:58.537804400Z"
    }
   },
   "id": "f04b330c4509ff46"
  },
  {
   "cell_type": "code",
   "execution_count": 23,
   "outputs": [],
   "source": [
    "output_2 = torch.matmul(output_1_relu, mlp_1_weight.transpose(0, 1)) + mlp_1_bias"
   ],
   "metadata": {
    "collapsed": false,
    "ExecuteTime": {
     "end_time": "2023-11-07T17:36:58.999718100Z",
     "start_time": "2023-11-07T17:36:58.983812200Z"
    }
   },
   "id": "aa6f0c351036c8d5"
  },
  {
   "cell_type": "code",
   "execution_count": 24,
   "outputs": [
    {
     "name": "stdout",
     "output_type": "stream",
     "text": [
      "torch.Size([11])\n"
     ]
    }
   ],
   "source": [
    "print(output_2.size())"
   ],
   "metadata": {
    "collapsed": false,
    "ExecuteTime": {
     "end_time": "2023-11-07T17:36:59.375111900Z",
     "start_time": "2023-11-07T17:36:59.366600700Z"
    }
   },
   "id": "86b7e81b954894b0"
  },
  {
   "cell_type": "code",
   "execution_count": 25,
   "outputs": [
    {
     "name": "stdout",
     "output_type": "stream",
     "text": [
      "tensor([ -5.0723,   8.9644,  14.0118,  30.5182, -21.5813,   1.5899,  19.3786,\n",
      "         13.1759, -19.6485, -18.1134, -44.3425])\n"
     ]
    }
   ],
   "source": [
    "print(output_2)"
   ],
   "metadata": {
    "collapsed": false,
    "ExecuteTime": {
     "end_time": "2023-11-07T17:37:00.230836200Z",
     "start_time": "2023-11-07T17:37:00.207467600Z"
    }
   },
   "id": "43181e7a90f9889c"
  },
  {
   "cell_type": "code",
   "execution_count": 26,
   "outputs": [
    {
     "ename": "IndexError",
     "evalue": "Dimension out of range (expected to be in range of [-1, 0], but got 1)",
     "output_type": "error",
     "traceback": [
      "\u001B[1;31m---------------------------------------------------------------------------\u001B[0m",
      "\u001B[1;31mIndexError\u001B[0m                                Traceback (most recent call last)",
      "Cell \u001B[1;32mIn[26], line 1\u001B[0m\n\u001B[1;32m----> 1\u001B[0m \u001B[38;5;28mprint\u001B[39m(\u001B[43moutput_2\u001B[49m\u001B[38;5;241;43m.\u001B[39;49m\u001B[43margmax\u001B[49m\u001B[43m(\u001B[49m\u001B[43mdim\u001B[49m\u001B[38;5;241;43m=\u001B[39;49m\u001B[38;5;241;43m1\u001B[39;49m\u001B[43m)\u001B[49m)\n",
      "\u001B[1;31mIndexError\u001B[0m: Dimension out of range (expected to be in range of [-1, 0], but got 1)"
     ]
    }
   ],
   "source": [
    "print(output_2.argmax(dim=1))"
   ],
   "metadata": {
    "collapsed": false,
    "ExecuteTime": {
     "end_time": "2023-11-07T17:37:02.041056300Z",
     "start_time": "2023-11-07T17:37:01.754987400Z"
    }
   },
   "id": "1252d44e40e6b902"
  },
  {
   "cell_type": "code",
   "execution_count": null,
   "outputs": [],
   "source": [],
   "metadata": {
    "collapsed": false
   },
   "id": "d608d3a8c9364f86"
  }
 ],
 "metadata": {
  "kernelspec": {
   "display_name": "Python 3",
   "language": "python",
   "name": "python3"
  },
  "language_info": {
   "codemirror_mode": {
    "name": "ipython",
    "version": 2
   },
   "file_extension": ".py",
   "mimetype": "text/x-python",
   "name": "python",
   "nbconvert_exporter": "python",
   "pygments_lexer": "ipython2",
   "version": "2.7.6"
  }
 },
 "nbformat": 4,
 "nbformat_minor": 5
}
