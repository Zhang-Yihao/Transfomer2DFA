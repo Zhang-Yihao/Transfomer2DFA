{
 "cells": [
  {
   "cell_type": "code",
   "execution_count": 10,
   "id": "initial_id",
   "metadata": {
    "collapsed": true,
    "ExecuteTime": {
     "end_time": "2023-12-21T16:46:26.744025100Z",
     "start_time": "2023-12-21T16:46:26.727992800Z"
    }
   },
   "outputs": [],
   "source": [
    "import torch\n",
    "import numpy as np\n",
    "from train.dset import get_dataloader, target_func\n",
    "from train.model import SimpleAttentionModel, SelfAttentionModel\n",
    "from train.config import read_config\n",
    "from train.main import pred_next_n_digits, get_correct_n_digits\n",
    "\n",
    "# read config\n",
    "config = read_config('train/config.json')\n",
    "\n",
    "train_loader, test_loader = get_dataloader(\n",
    "    config.num_samples, config.seq_length, config.test_split, config.func_name, config.batch_size\n",
    ")\n",
    "\n",
    "# define model\n",
    "model = {\n",
    "    \"simple\": SimpleAttentionModel,\n",
    "    \"self\": SelfAttentionModel\n",
    "}[config.model_name](config.vocab_size, config.embed_dim, config.mlp_hidden_dim)\n",
    "\n",
    "# define loss function and optimizer\n",
    "loss_fn = torch.nn.CrossEntropyLoss()\n",
    "optimizer = torch.optim.Adam(model.parameters(), lr=config.learning_rate)"
   ]
  },
  {
   "cell_type": "code",
   "execution_count": 12,
   "outputs": [
    {
     "name": "stdout",
     "output_type": "stream",
     "text": [
      "Epoch: 0, Loss: 0.9463\n",
      "Epoch: 10, Loss: 1.1086\n",
      "Epoch: 20, Loss: 1.4879\n",
      "Epoch: 30, Loss: 1.0979\n",
      "Epoch: 40, Loss: 0.9626\n",
      "Epoch: 50, Loss: 1.0192\n",
      "Epoch: 60, Loss: 1.0360\n",
      "Epoch: 70, Loss: 1.1532\n",
      "Epoch: 80, Loss: 1.1107\n",
      "Epoch: 90, Loss: 1.1177\n",
      "Epoch: 100, Loss: 0.9300\n",
      "Epoch: 110, Loss: 1.1254\n",
      "Epoch: 120, Loss: 1.0606\n",
      "Epoch: 130, Loss: 1.2046\n",
      "Epoch: 140, Loss: 1.0334\n",
      "Epoch: 150, Loss: 1.0086\n",
      "Epoch: 160, Loss: 0.9189\n",
      "Epoch: 170, Loss: 1.1077\n",
      "Epoch: 180, Loss: 0.9110\n",
      "Epoch: 190, Loss: 1.0148\n",
      "Accuracy: 91.0000%\n"
     ]
    }
   ],
   "source": [
    "# train\n",
    "model.train()\n",
    "torch.autograd.set_detect_anomaly(True)\n",
    "for epoch in range(config.num_epochs):\n",
    "    for batch_idx, x in enumerate(train_loader):\n",
    "        optimizer.zero_grad()\n",
    "        if config.pred_num == 1:\n",
    "            y_pred = model(x)\n",
    "            loss = loss_fn(y_pred, torch.LongTensor([target_func(seq, config.func_name) for seq in x]))\n",
    "        else:\n",
    "            y_pred = pred_next_n_digits(x, config.pred_num, model)\n",
    "            y_correct = get_correct_n_digits(x, config.pred_num, config)\n",
    "            loss = loss_fn(y_pred, y_correct)\n",
    "        loss.backward()\n",
    "        optimizer.step()\n",
    "        if epoch % 10 == 0 and batch_idx == 0:\n",
    "            print(f'Epoch: {epoch}, Loss: {loss.item():.4f}')\n",
    "\n",
    "# test\n",
    "model.eval()\n",
    "num_correct = 0\n",
    "num_samples = 0\n",
    "for x in test_loader:\n",
    "    y_pred = model(x)\n",
    "    # get the index of the max log-probability\n",
    "    _, y_pred = y_pred.max(dim=1)\n",
    "    y = torch.LongTensor([target_func(seq, config.func_name) for seq in x])\n",
    "    num_correct += (y_pred == y).sum()\n",
    "    num_samples += y.size(0)\n",
    "acc = float(num_correct) / num_samples * 100\n",
    "print(f'Accuracy: {acc:.4f}%')"
   ],
   "metadata": {
    "collapsed": false,
    "ExecuteTime": {
     "end_time": "2023-12-21T16:50:40.218629700Z",
     "start_time": "2023-12-21T16:48:43.422282200Z"
    }
   },
   "id": "5ed86d992c22aec"
  },
  {
   "cell_type": "code",
   "execution_count": 13,
   "outputs": [
    {
     "name": "stdout",
     "output_type": "stream",
     "text": [
      "Input: [1, 4, 1, 0, 0, 0, 0, 0, 0, 0]\n",
      "Ground truth: 2\n",
      "Prediction: 2\n",
      "Input: [3, 2, 3, 1, 2, 0, 0, 0, 0, 0]\n",
      "Ground truth: 3\n",
      "Prediction: 3\n",
      "Input: [3, 2, 0, 0, 0, 0, 0, 0, 0, 0]\n",
      "Ground truth: 3\n",
      "Prediction: 1\n",
      "Input: [1, 4, 0, 0, 0, 0, 0, 0, 0, 0]\n",
      "Ground truth: 1\n",
      "Prediction: 1\n",
      "Input: [2, 4, 1, 0, 0, 0, 0, 0, 0, 0]\n",
      "Ground truth: 2\n",
      "Prediction: 1\n",
      "Input: [3, 2, 3, 0, 0, 0, 0, 0, 0, 0]\n",
      "Ground truth: 1\n",
      "Prediction: 1\n",
      "Input: [3, 2, 3, 1, 2, 3, 0, 0, 0, 0]\n",
      "Ground truth: 1\n",
      "Prediction: 1\n",
      "Input: [1, 4, 1, 2, 3, 0, 0, 0, 0, 0]\n",
      "Ground truth: 4\n",
      "Prediction: 4\n",
      "Input: [2, 4, 1, 2, 3, 4, 0, 0, 0, 0]\n",
      "Ground truth: 1\n",
      "Prediction: 1\n",
      "Input: [1, 4, 1, 2, 0, 0, 0, 0, 0, 0]\n",
      "Ground truth: 3\n",
      "Prediction: 3\n",
      "---\n"
     ]
    }
   ],
   "source": [
    "model.eval()\n",
    "for x in test_loader:\n",
    "    y_pred = model(x)\n",
    "    _, y_pred = y_pred.max(dim=1)\n",
    "    print(f'Input: {x[0].tolist()}')\n",
    "    print(f'Ground truth: {target_func(x[0].tolist(), config.func_name)}')\n",
    "    print(f'Prediction: {y_pred[0].item()}')\n",
    "print('---')"
   ],
   "metadata": {
    "collapsed": false,
    "ExecuteTime": {
     "end_time": "2023-12-21T16:50:45.449659700Z",
     "start_time": "2023-12-21T16:50:45.319894400Z"
    }
   },
   "id": "e1a5a7818a3ffcb1"
  },
  {
   "cell_type": "code",
   "execution_count": 69,
   "outputs": [
    {
     "name": "stdout",
     "output_type": "stream",
     "text": [
      "Predicted next digit: 3\n"
     ]
    }
   ],
   "source": [
    "dig_str = \"\"\n",
    "while dig_str != \"q\":\n",
    "    dig_str = input(\"Enter a digit sequence (or q to quit): \")\n",
    "    if dig_str == \"q\":\n",
    "        break\n",
    "    dig_list = [int(dig) for dig in dig_str.split()]\n",
    "    dig_list = dig_list + [0] * (config.seq_length - len(dig_list))\n",
    "    x = torch.LongTensor(dig_list).unsqueeze(0)\n",
    "    y_pred = model(x)\n",
    "    _, y_pred = y_pred.max(dim=1)\n",
    "    print(f'Predicted next digit: {y_pred.item()}')"
   ],
   "metadata": {
    "collapsed": false,
    "ExecuteTime": {
     "end_time": "2023-12-21T16:26:31.363354Z",
     "start_time": "2023-12-21T16:26:22.885161700Z"
    }
   },
   "id": "c9c4e8444a6bff06"
  },
  {
   "cell_type": "code",
   "execution_count": 14,
   "outputs": [
    {
     "name": "stderr",
     "output_type": "stream",
     "text": [
      "C:\\Work Space\\AI Security\\Transformer\\venv\\lib\\site-packages\\sklearn\\cluster\\_kmeans.py:1416: FutureWarning: The default value of `n_init` will change from 10 to 'auto' in 1.4. Set the value of `n_init` explicitly to suppress the warning\n",
      "  super()._check_params_vs_input(X, default_n_init=10)\n"
     ]
    },
    {
     "name": "stdout",
     "output_type": "stream",
     "text": [
      "[[[1. 0. 0. 0. 0. 0. 0.]\n",
      "  [0. 1. 0. 0. 0. 0. 0.]\n",
      "  [0. 0. 1. 0. 0. 0. 0.]\n",
      "  [0. 0. 0. 1. 0. 0. 0.]\n",
      "  [0. 0. 0. 0. 1. 0. 0.]\n",
      "  [0. 0. 0. 0. 0. 1. 0.]\n",
      "  [0. 0. 0. 0. 0. 0. 1.]]\n",
      "\n",
      " [[1. 0. 0. 0. 0. 0. 0.]\n",
      "  [0. 0. 0. 0. 0. 0. 0.]\n",
      "  [0. 0. 1. 0. 0. 0. 0.]\n",
      "  [0. 0. 0. 1. 0. 0. 0.]\n",
      "  [0. 0. 0. 0. 0. 0. 0.]\n",
      "  [0. 0. 0. 0. 0. 0. 0.]\n",
      "  [0. 0. 0. 0. 0. 0. 0.]]\n",
      "\n",
      " [[1. 0. 0. 0. 0. 0. 0.]\n",
      "  [0. 1. 0. 0. 0. 0. 0.]\n",
      "  [0. 0. 0. 1. 0. 0. 0.]\n",
      "  [0. 0. 0. 1. 0. 0. 0.]\n",
      "  [0. 0. 0. 0. 1. 0. 0.]\n",
      "  [0. 0. 0. 0. 0. 1. 0.]\n",
      "  [0. 0. 0. 0. 0. 0. 0.]]\n",
      "\n",
      " [[0. 0. 0. 0. 0. 0. 0.]\n",
      "  [0. 0. 0. 0. 0. 0. 0.]\n",
      "  [0. 0. 0. 0. 0. 0. 0.]\n",
      "  [0. 0. 0. 0. 0. 0. 0.]\n",
      "  [0. 0. 0. 0. 0. 0. 0.]\n",
      "  [0. 0. 0. 0. 0. 0. 0.]\n",
      "  [0. 0. 0. 0. 0. 0. 0.]]\n",
      "\n",
      " [[1. 0. 0. 0. 0. 0. 0.]\n",
      "  [0. 1. 0. 0. 0. 0. 0.]\n",
      "  [0. 0. 1. 0. 0. 0. 0.]\n",
      "  [0. 0. 0. 1. 0. 0. 0.]\n",
      "  [0. 0. 0. 0. 1. 0. 0.]\n",
      "  [0. 0. 0. 0. 0. 1. 0.]\n",
      "  [0. 0. 0. 0. 0. 0. 1.]]]\n",
      "[[4.91380848e-28 3.35268349e-01 2.87170565e-01 7.78105125e-02\n",
      "  2.99750580e-01]\n",
      " [2.77528095e-14 1.40905064e-02 4.26824604e-01 5.58983389e-01\n",
      "  1.01506329e-04]\n",
      " [5.10738643e-07 3.56581610e-01 3.80229004e-01 1.37457227e-04\n",
      "  2.63051418e-01]\n",
      " [1.54535567e-23 1.02112233e-01 3.27116117e-01 2.47316335e-01\n",
      "  3.23455318e-01]\n",
      " [3.39397643e-11 3.16031306e-01 2.48989854e-01 2.27062747e-01\n",
      "  2.07916093e-01]\n",
      " [1.60151335e-32 3.59169306e-01 5.99578221e-01 4.09363162e-02\n",
      "  3.16166982e-04]\n",
      " [2.38250855e-10 3.44134132e-01 4.16458283e-01 2.38902756e-01\n",
      "  5.04833339e-04]]\n"
     ]
    }
   ],
   "source": [
    "# km_model\n",
    "from sklearn.cluster import KMeans\n",
    "from train.model import PositionalEncoding\n",
    "\n",
    "# get model key_lsts as output states\n",
    "keys_lst = []\n",
    "vals_lst = []\n",
    "logits_lst = []\n",
    "\n",
    "for x in train_loader:\n",
    "    keys_x = model.k_matrix(model.embedding(x)).detach().numpy(\n",
    "    # [batch_size, seq_len, embed_dim] -> [batch_size, seq_len * embed_dim]\n",
    "    ).reshape(x.shape[0], -1)\n",
    "    keys_lst = keys_lst + keys_x.tolist()\n",
    "    #print(keys_x.shape)\n",
    "    vals_x = model.v_matrix(model.embedding(x)).detach().numpy()\n",
    "    vals_lst = vals_lst + vals_x.tolist()\n",
    "    #print(vals_x.shape)\n",
    "    logits_x = model(x).detach().numpy()\n",
    "    logits_lst = logits_lst + logits_x.tolist()\n",
    "    #print(logits_x.shape)\n",
    "    \n",
    "# turn list into np array\n",
    "keys_lst = np.array(keys_lst)\n",
    "vals_lst = np.array(vals_lst)\n",
    "logits_lst = np.array(logits_lst)\n",
    "#print(keys_lst.shape)\n",
    "#print(vals_lst.shape)\n",
    "#print(logits_lst.shape)\n",
    "    \n",
    "\n",
    "# kmeans\n",
    "n_clusters = 7\n",
    "kmeans = KMeans(n_clusters=n_clusters, random_state=0).fit(keys_lst)\n",
    "#print(kmeans.labels_)\n",
    "#print(kmeans.cluster_centers_)\n",
    "\n",
    "# get transition matrix\n",
    "centers = kmeans.cluster_centers_\n",
    "trans_matrix = np.zeros((config.vocab_size, n_clusters, n_clusters))\n",
    "trans_matrix[0] = np.identity(n_clusters)\n",
    "for x in train_loader:\n",
    "    for data in x:\n",
    "        from_keys = model.k_matrix(model.embedding(data)).detach().numpy()[0] # [seq_len, embed_dim]\n",
    "        from_keys = from_keys.reshape(1, -1)\n",
    "        from_keys = from_keys.astype(np.float16)\n",
    "        from_state = kmeans.predict(from_keys)[0]\n",
    "        first_zero_idx = np.where(data == 0)[0][0]\n",
    "        to_fill_in = model(data.unsqueeze(0)).argmax().item()\n",
    "        data[first_zero_idx] = to_fill_in\n",
    "        to_keys = model.k_matrix(model.embedding(data)).detach().numpy()[0] # [seq_len, embed_dim]\n",
    "        to_keys = to_keys.reshape(1, -1)\n",
    "        to_keys = to_keys.astype(np.float16)\n",
    "        to_state = kmeans.predict(to_keys)[0]\n",
    "        trans_matrix[to_fill_in, from_state, to_state] += 1\n",
    "for mat in trans_matrix:\n",
    "    for row in range(mat.shape[0]):\n",
    "        if mat[row].sum() != 0:\n",
    "            mat[row] = mat[row] / mat[row].sum()\n",
    "        else:\n",
    "            #mat[row] = np.ones(mat[row].shape) / mat[row].shape[0]\n",
    "            pass\n",
    "print(trans_matrix)\n",
    "\n",
    "# get avg value for each cluster\n",
    "avg_vals = np.zeros((n_clusters, vals_lst.shape[1], vals_lst.shape[2]))\n",
    "for i in range(n_clusters):\n",
    "    avg_vals[i] = np.mean(vals_lst[kmeans.labels_ == i], axis=0)\n",
    "#print(avg_vals)\n",
    "\n",
    "# get avg logits for each cluster\n",
    "avg_logits = np.zeros((n_clusters, logits_lst.shape[1]))\n",
    "for i in range(n_clusters):\n",
    "    avg_logits[i] = np.mean(logits_lst[kmeans.labels_ == i], axis=0)\n",
    "print(avg_logits)"
   ],
   "metadata": {
    "collapsed": false,
    "ExecuteTime": {
     "end_time": "2023-12-21T16:50:56.390884700Z",
     "start_time": "2023-12-21T16:50:49.890247700Z"
    }
   },
   "id": "59e4b5115695023b"
  },
  {
   "cell_type": "code",
   "execution_count": 20,
   "outputs": [
    {
     "name": "stderr",
     "output_type": "stream",
     "text": [
      "100%|██████████| 500/500 [00:06<00:00, 79.71it/s]"
     ]
    },
    {
     "name": "stdout",
     "output_type": "stream",
     "text": [
      "Accuracy:  0.064\n"
     ]
    },
    {
     "name": "stderr",
     "output_type": "stream",
     "text": [
      "\n"
     ]
    }
   ],
   "source": [
    "from automata import predict_by_automata,get_transition_matrix, km_model\n",
    "from train.dset import NumberSequenceDataset\n",
    "from read_model import get_model_out\n",
    "from tqdm import tqdm\n",
    "dataset = NumberSequenceDataset(config.num_samples, config.seq_length, config.func_name)\n",
    "#model_dct = model.state_dict()\n",
    "#kmeans_mdl = km_model(model_dct, dataset)\n",
    "#trans_mat = get_transition_matrix(model_dct, dataset, kmeans_mdl, 5)\n",
    "\n",
    "num_corr = 0\n",
    "# use tqdm to show progress bar\n",
    "test_range = 500\n",
    "for i in tqdm(range(test_range)):\n",
    "    data = dataset[i]\n",
    "    #print(\"data: \", data)\n",
    "    real_out = model(torch.LongTensor(data).unsqueeze(0))\n",
    "    _, real_out = real_out.max(dim=1)\n",
    "    real_out = real_out.item()\n",
    "    # pred_out = predict_by_automata(model_dct, dataset, i, kmeans_mdl, trans_mat, mode='all_trans')\n",
    "    data_fst = data.clone()\n",
    "    for idx in range(len(data)):\n",
    "        if idx > 0:\n",
    "            data_fst[idx] = 0\n",
    "    init_key = model.k_matrix(model.embedding(data_fst)).detach().numpy()[0] # [seq_len, embed_dim]\n",
    "    init_key = init_key.reshape(1, -1)\n",
    "    init_key = init_key.astype(np.float16)\n",
    "    init_state = kmeans.predict(init_key)[0]\n",
    "    state_distribution = np.zeros(n_clusters)\n",
    "    state_distribution[init_state] = 1\n",
    "    for num in data[1:]:\n",
    "        state_distribution = np.matmul(state_distribution, trans_matrix[num])\n",
    "        #print(\"state_distribution: \", state_distribution)\n",
    "    # pred logits is the weighted sum of avg logits\n",
    "    #print(\"state_distribution: \", state_distribution)\n",
    "    pred_logits = np.matmul(state_distribution, avg_logits)\n",
    "    #print(\"pred_logits: \", pred_logits)\n",
    "    pred_out = pred_logits.argmax()\n",
    "    #print(\"real: \", real_out, \"pred: \", pred_out)\n",
    "    if real_out == pred_out:\n",
    "        num_corr += 1\n",
    "\n",
    "print(\"Accuracy: \", num_corr / test_range)"
   ],
   "metadata": {
    "collapsed": false,
    "ExecuteTime": {
     "end_time": "2023-12-21T16:54:12.622626400Z",
     "start_time": "2023-12-21T16:54:06.332786800Z"
    }
   },
   "id": "de4f1e652509cba5"
  },
  {
   "cell_type": "code",
   "execution_count": 52,
   "outputs": [],
   "source": [],
   "metadata": {
    "collapsed": false,
    "ExecuteTime": {
     "end_time": "2023-12-21T16:12:16.173881900Z",
     "start_time": "2023-12-21T16:12:16.169398Z"
    }
   },
   "id": "c2920c667ad65047"
  },
  {
   "cell_type": "code",
   "execution_count": null,
   "outputs": [],
   "source": [],
   "metadata": {
    "collapsed": false
   },
   "id": "5f76d560d7bf0c8c"
  }
 ],
 "metadata": {
  "kernelspec": {
   "display_name": "Python 3",
   "language": "python",
   "name": "python3"
  },
  "language_info": {
   "codemirror_mode": {
    "name": "ipython",
    "version": 2
   },
   "file_extension": ".py",
   "mimetype": "text/x-python",
   "name": "python",
   "nbconvert_exporter": "python",
   "pygments_lexer": "ipython2",
   "version": "2.7.6"
  }
 },
 "nbformat": 4,
 "nbformat_minor": 5
}
